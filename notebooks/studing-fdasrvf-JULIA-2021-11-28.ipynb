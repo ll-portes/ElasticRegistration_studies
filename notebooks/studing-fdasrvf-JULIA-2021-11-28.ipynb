{
 "cells": [
  {
   "cell_type": "markdown",
   "id": "29541c48",
   "metadata": {},
   "source": [
    "# Studing fdasrvf | Julia\n",
    "\n",
    "* Julia:\n",
    "    * pkg: https://github.com/jdtuck/ElasticFDA.jl\n",
    "    * documentation https://elasticfdajl.readthedocs.io/en/latest/\n",
    "\n",
    "\n",
    "* All pkgs: http://research.tetonedge.net/software.html"
   ]
  },
  {
   "cell_type": "markdown",
   "id": "ee351019",
   "metadata": {},
   "source": [
    "## Loading data"
   ]
  },
  {
   "cell_type": "code",
   "execution_count": 2,
   "id": "93a90893",
   "metadata": {
    "scrolled": true
   },
   "outputs": [
    {
     "data": {
      "text/html": [
       "<div class=\"data-frame\"><p>100 rows × 17 columns (omitted printing of 10 columns)</p><table class=\"data-frame\"><thead><tr><th></th><th>Column1</th><th>0</th><th>1</th><th>2</th><th>3</th><th>4</th><th>5</th></tr><tr><th></th><th title=\"Int64\">Int64</th><th title=\"Float64\">Float64</th><th title=\"Float64\">Float64</th><th title=\"Float64\">Float64</th><th title=\"Float64\">Float64</th><th title=\"Float64\">Float64</th><th title=\"Float64\">Float64</th></tr></thead><tbody><tr><th>1</th><td>0</td><td>1.83285e-45</td><td>9.19395e-27</td><td>2.69583e-38</td><td>1.16925e-46</td><td>1.5979e-33</td><td>7.04506e-44</td></tr><tr><th>2</th><td>1</td><td>2.89475e-43</td><td>4.30648e-25</td><td>2.77371e-36</td><td>1.97666e-44</td><td>1.20762e-31</td><td>1.01527e-41</td></tr><tr><th>3</th><td>2</td><td>4.02443e-41</td><td>1.77564e-23</td><td>2.51212e-34</td><td>2.94149e-42</td><td>8.03386e-30</td><td>1.28793e-39</td></tr><tr><th>4</th><td>3</td><td>4.92503e-39</td><td>6.44461e-22</td><td>2.00277e-32</td><td>3.85314e-40</td><td>4.70466e-28</td><td>1.43817e-37</td></tr><tr><th>5</th><td>4</td><td>5.30548e-37</td><td>2.05897e-20</td><td>1.4055e-30</td><td>4.44296e-38</td><td>2.42518e-26</td><td>1.41364e-35</td></tr><tr><th>6</th><td>5</td><td>5.03097e-35</td><td>5.79047e-19</td><td>8.68249e-29</td><td>4.50963e-36</td><td>1.10045e-24</td><td>1.22315e-33</td></tr><tr><th>7</th><td>6</td><td>4.19942e-33</td><td>1.43347e-17</td><td>4.72136e-27</td><td>4.02922e-34</td><td>4.39548e-23</td><td>9.31608e-32</td></tr><tr><th>8</th><td>7</td><td>3.08559e-31</td><td>3.12374e-16</td><td>2.25996e-25</td><td>3.16892e-32</td><td>1.54545e-21</td><td>6.24592e-30</td></tr><tr><th>9</th><td>8</td><td>1.99571e-29</td><td>5.99201e-15</td><td>9.5224e-24</td><td>2.19388e-30</td><td>4.78314e-20</td><td>3.68613e-28</td></tr><tr><th>10</th><td>9</td><td>1.13623e-27</td><td>1.01177e-13</td><td>3.53185e-22</td><td>1.33698e-28</td><td>1.30312e-18</td><td>1.91494e-26</td></tr><tr><th>11</th><td>10</td><td>5.69442e-26</td><td>1.50383e-12</td><td>1.15311e-20</td><td>7.17214e-27</td><td>3.1251e-17</td><td>8.75692e-25</td></tr><tr><th>12</th><td>11</td><td>2.51213e-24</td><td>1.96757e-11</td><td>3.31396e-19</td><td>3.38675e-25</td><td>6.59714e-16</td><td>3.52499e-23</td></tr><tr><th>13</th><td>12</td><td>9.7554e-23</td><td>2.26606e-10</td><td>8.3837e-18</td><td>1.40776e-23</td><td>1.22591e-14</td><td>1.24904e-21</td></tr><tr><th>14</th><td>13</td><td>3.33472e-21</td><td>2.29733e-9</td><td>1.86696e-16</td><td>5.15092e-22</td><td>2.00527e-13</td><td>3.89587e-20</td></tr><tr><th>15</th><td>14</td><td>1.00342e-19</td><td>2.05015e-8</td><td>3.65971e-15</td><td>1.65902e-20</td><td>2.88733e-12</td><td>1.06966e-18</td></tr><tr><th>16</th><td>15</td><td>2.65779e-18</td><td>1.61049e-7</td><td>6.31492e-14</td><td>4.7036e-19</td><td>3.65959e-11</td><td>2.58521e-17</td></tr><tr><th>17</th><td>16</td><td>6.1968e-17</td><td>1.11364e-6</td><td>9.59181e-13</td><td>1.17387e-17</td><td>4.08299e-10</td><td>5.49992e-16</td></tr><tr><th>18</th><td>17</td><td>1.27182e-15</td><td>6.77859e-6</td><td>1.28246e-11</td><td>2.57881e-16</td><td>4.00992e-9</td><td>1.02998e-14</td></tr><tr><th>19</th><td>18</td><td>2.29771e-14</td><td>3.632e-5</td><td>1.50938e-10</td><td>4.9869e-15</td><td>3.46661e-8</td><td>1.6979e-13</td></tr><tr><th>20</th><td>19</td><td>3.65405e-13</td><td>0.000171302</td><td>1.56374e-9</td><td>8.48892e-14</td><td>2.63805e-7</td><td>2.46381e-12</td></tr><tr><th>21</th><td>20</td><td>5.11524e-12</td><td>0.0007112</td><td>1.42607e-8</td><td>1.272e-12</td><td>1.76715e-6</td><td>3.14711e-11</td></tr><tr><th>22</th><td>21</td><td>6.30329e-11</td><td>0.00259915</td><td>1.1448e-7</td><td>1.67776e-11</td><td>1.04202e-5</td><td>3.53858e-10</td></tr><tr><th>23</th><td>22</td><td>6.83723e-10</td><td>0.00836145</td><td>8.08958e-7</td><td>1.94798e-10</td><td>5.40863e-5</td><td>3.50232e-9</td></tr><tr><th>24</th><td>23</td><td>6.52836e-9</td><td>0.0236779</td><td>5.03194e-6</td><td>1.9909e-9</td><td>0.000247121</td><td>3.05137e-8</td></tr><tr><th>25</th><td>24</td><td>5.48705e-8</td><td>0.0590222</td><td>2.75521e-5</td><td>1.79113e-8</td><td>0.000993904</td><td>2.34015e-7</td></tr><tr><th>26</th><td>25</td><td>4.05961e-7</td><td>0.129509</td><td>0.000132796</td><td>1.41845e-7</td><td>0.00351876</td><td>1.5798e-6</td></tr><tr><th>27</th><td>26</td><td>2.64388e-6</td><td>0.250146</td><td>0.000563415</td><td>9.8881e-7</td><td>0.0109659</td><td>9.38803e-6</td></tr><tr><th>28</th><td>27</td><td>1.51568e-5</td><td>0.425303</td><td>0.00210417</td><td>6.06768e-6</td><td>0.0300824</td><td>4.91085e-5</td></tr><tr><th>29</th><td>28</td><td>7.64869e-5</td><td>0.636523</td><td>0.00691744</td><td>3.2775e-5</td><td>0.0726424</td><td>0.000226125</td></tr><tr><th>30</th><td>29</td><td>0.000339763</td><td>0.838573</td><td>0.020018</td><td>0.000155838</td><td>0.154411</td><td>0.000916544</td></tr><tr><th>&vellip;</th><td>&vellip;</td><td>&vellip;</td><td>&vellip;</td><td>&vellip;</td><td>&vellip;</td><td>&vellip;</td><td>&vellip;</td></tr></tbody></table></div>"
      ],
      "text/latex": [
       "\\begin{tabular}{r|cccccccc}\n",
       "\t& Column1 & 0 & 1 & 2 & 3 & 4 & 5 & \\\\\n",
       "\t\\hline\n",
       "\t& Int64 & Float64 & Float64 & Float64 & Float64 & Float64 & Float64 & \\\\\n",
       "\t\\hline\n",
       "\t1 & 0 & 1.83285e-45 & 9.19395e-27 & 2.69583e-38 & 1.16925e-46 & 1.5979e-33 & 7.04506e-44 & $\\dots$ \\\\\n",
       "\t2 & 1 & 2.89475e-43 & 4.30648e-25 & 2.77371e-36 & 1.97666e-44 & 1.20762e-31 & 1.01527e-41 & $\\dots$ \\\\\n",
       "\t3 & 2 & 4.02443e-41 & 1.77564e-23 & 2.51212e-34 & 2.94149e-42 & 8.03386e-30 & 1.28793e-39 & $\\dots$ \\\\\n",
       "\t4 & 3 & 4.92503e-39 & 6.44461e-22 & 2.00277e-32 & 3.85314e-40 & 4.70466e-28 & 1.43817e-37 & $\\dots$ \\\\\n",
       "\t5 & 4 & 5.30548e-37 & 2.05897e-20 & 1.4055e-30 & 4.44296e-38 & 2.42518e-26 & 1.41364e-35 & $\\dots$ \\\\\n",
       "\t6 & 5 & 5.03097e-35 & 5.79047e-19 & 8.68249e-29 & 4.50963e-36 & 1.10045e-24 & 1.22315e-33 & $\\dots$ \\\\\n",
       "\t7 & 6 & 4.19942e-33 & 1.43347e-17 & 4.72136e-27 & 4.02922e-34 & 4.39548e-23 & 9.31608e-32 & $\\dots$ \\\\\n",
       "\t8 & 7 & 3.08559e-31 & 3.12374e-16 & 2.25996e-25 & 3.16892e-32 & 1.54545e-21 & 6.24592e-30 & $\\dots$ \\\\\n",
       "\t9 & 8 & 1.99571e-29 & 5.99201e-15 & 9.5224e-24 & 2.19388e-30 & 4.78314e-20 & 3.68613e-28 & $\\dots$ \\\\\n",
       "\t10 & 9 & 1.13623e-27 & 1.01177e-13 & 3.53185e-22 & 1.33698e-28 & 1.30312e-18 & 1.91494e-26 & $\\dots$ \\\\\n",
       "\t11 & 10 & 5.69442e-26 & 1.50383e-12 & 1.15311e-20 & 7.17214e-27 & 3.1251e-17 & 8.75692e-25 & $\\dots$ \\\\\n",
       "\t12 & 11 & 2.51213e-24 & 1.96757e-11 & 3.31396e-19 & 3.38675e-25 & 6.59714e-16 & 3.52499e-23 & $\\dots$ \\\\\n",
       "\t13 & 12 & 9.7554e-23 & 2.26606e-10 & 8.3837e-18 & 1.40776e-23 & 1.22591e-14 & 1.24904e-21 & $\\dots$ \\\\\n",
       "\t14 & 13 & 3.33472e-21 & 2.29733e-9 & 1.86696e-16 & 5.15092e-22 & 2.00527e-13 & 3.89587e-20 & $\\dots$ \\\\\n",
       "\t15 & 14 & 1.00342e-19 & 2.05015e-8 & 3.65971e-15 & 1.65902e-20 & 2.88733e-12 & 1.06966e-18 & $\\dots$ \\\\\n",
       "\t16 & 15 & 2.65779e-18 & 1.61049e-7 & 6.31492e-14 & 4.7036e-19 & 3.65959e-11 & 2.58521e-17 & $\\dots$ \\\\\n",
       "\t17 & 16 & 6.1968e-17 & 1.11364e-6 & 9.59181e-13 & 1.17387e-17 & 4.08299e-10 & 5.49992e-16 & $\\dots$ \\\\\n",
       "\t18 & 17 & 1.27182e-15 & 6.77859e-6 & 1.28246e-11 & 2.57881e-16 & 4.00992e-9 & 1.02998e-14 & $\\dots$ \\\\\n",
       "\t19 & 18 & 2.29771e-14 & 3.632e-5 & 1.50938e-10 & 4.9869e-15 & 3.46661e-8 & 1.6979e-13 & $\\dots$ \\\\\n",
       "\t20 & 19 & 3.65405e-13 & 0.000171302 & 1.56374e-9 & 8.48892e-14 & 2.63805e-7 & 2.46381e-12 & $\\dots$ \\\\\n",
       "\t21 & 20 & 5.11524e-12 & 0.0007112 & 1.42607e-8 & 1.272e-12 & 1.76715e-6 & 3.14711e-11 & $\\dots$ \\\\\n",
       "\t22 & 21 & 6.30329e-11 & 0.00259915 & 1.1448e-7 & 1.67776e-11 & 1.04202e-5 & 3.53858e-10 & $\\dots$ \\\\\n",
       "\t23 & 22 & 6.83723e-10 & 0.00836145 & 8.08958e-7 & 1.94798e-10 & 5.40863e-5 & 3.50232e-9 & $\\dots$ \\\\\n",
       "\t24 & 23 & 6.52836e-9 & 0.0236779 & 5.03194e-6 & 1.9909e-9 & 0.000247121 & 3.05137e-8 & $\\dots$ \\\\\n",
       "\t25 & 24 & 5.48705e-8 & 0.0590222 & 2.75521e-5 & 1.79113e-8 & 0.000993904 & 2.34015e-7 & $\\dots$ \\\\\n",
       "\t26 & 25 & 4.05961e-7 & 0.129509 & 0.000132796 & 1.41845e-7 & 0.00351876 & 1.5798e-6 & $\\dots$ \\\\\n",
       "\t27 & 26 & 2.64388e-6 & 0.250146 & 0.000563415 & 9.8881e-7 & 0.0109659 & 9.38803e-6 & $\\dots$ \\\\\n",
       "\t28 & 27 & 1.51568e-5 & 0.425303 & 0.00210417 & 6.06768e-6 & 0.0300824 & 4.91085e-5 & $\\dots$ \\\\\n",
       "\t29 & 28 & 7.64869e-5 & 0.636523 & 0.00691744 & 3.2775e-5 & 0.0726424 & 0.000226125 & $\\dots$ \\\\\n",
       "\t30 & 29 & 0.000339763 & 0.838573 & 0.020018 & 0.000155838 & 0.154411 & 0.000916544 & $\\dots$ \\\\\n",
       "\t$\\dots$ & $\\dots$ & $\\dots$ & $\\dots$ & $\\dots$ & $\\dots$ & $\\dots$ & $\\dots$ &  \\\\\n",
       "\\end{tabular}\n"
      ],
      "text/plain": [
       "\u001b[1m100×17 DataFrame\u001b[0m\n",
       "\u001b[1m Row \u001b[0m│\u001b[1m Column1 \u001b[0m\u001b[1m 0           \u001b[0m\u001b[1m 1           \u001b[0m\u001b[1m 2           \u001b[0m\u001b[1m 3           \u001b[0m\u001b[1m 4         \u001b[0m ⋯\n",
       "\u001b[1m     \u001b[0m│\u001b[90m Int64   \u001b[0m\u001b[90m Float64     \u001b[0m\u001b[90m Float64     \u001b[0m\u001b[90m Float64     \u001b[0m\u001b[90m Float64     \u001b[0m\u001b[90m Float64   \u001b[0m ⋯\n",
       "─────┼──────────────────────────────────────────────────────────────────────────\n",
       "   1 │       0  1.83285e-45  9.19395e-27  2.69583e-38  1.16925e-46  1.5979e-33 ⋯\n",
       "   2 │       1  2.89475e-43  4.30648e-25  2.77371e-36  1.97666e-44  1.20762e-3\n",
       "   3 │       2  4.02443e-41  1.77564e-23  2.51212e-34  2.94149e-42  8.03386e-3\n",
       "   4 │       3  4.92503e-39  6.44461e-22  2.00277e-32  3.85314e-40  4.70466e-2\n",
       "   5 │       4  5.30548e-37  2.05897e-20  1.4055e-30   4.44296e-38  2.42518e-2 ⋯\n",
       "   6 │       5  5.03097e-35  5.79047e-19  8.68249e-29  4.50963e-36  1.10045e-2\n",
       "   7 │       6  4.19942e-33  1.43347e-17  4.72136e-27  4.02922e-34  4.39548e-2\n",
       "   8 │       7  3.08559e-31  3.12374e-16  2.25996e-25  3.16892e-32  1.54545e-2\n",
       "   9 │       8  1.99571e-29  5.99201e-15  9.5224e-24   2.19388e-30  4.78314e-2 ⋯\n",
       "  10 │       9  1.13623e-27  1.01177e-13  3.53185e-22  1.33698e-28  1.30312e-1\n",
       "  11 │      10  5.69442e-26  1.50383e-12  1.15311e-20  7.17214e-27  3.1251e-17\n",
       "  ⋮  │    ⋮          ⋮            ⋮            ⋮            ⋮            ⋮     ⋱\n",
       "  91 │      90  1.755e-20    1.28228e-23  4.23222e-33  1.79181e-21  3.5198e-18\n",
       "  92 │      91  5.4604e-22   3.07488e-25  5.07142e-35  5.12376e-23  1.3438e-19 ⋯\n",
       "  93 │      92  1.49549e-23  6.49056e-27  5.34936e-37  1.28972e-24  4.51606e-2\n",
       "  94 │      93  3.60538e-25  1.206e-28    4.96689e-39  2.8577e-26   1.33597e-2\n",
       "  95 │      94  7.65123e-27  1.97253e-30  4.05956e-41  5.57373e-28  3.47892e-2\n",
       "  96 │      95  1.4293e-28   2.83996e-32  2.92068e-43  9.56946e-30  7.97449e-2 ⋯\n",
       "  97 │      96  2.3503e-30   3.59924e-34  1.84969e-45  1.44624e-31  1.60906e-2\n",
       "  98 │      97  3.40202e-32  4.01532e-36  1.03116e-47  1.92399e-33  2.85794e-2\n",
       "  99 │      98  4.33471e-34  3.94313e-38  5.06016e-50  2.25308e-35  4.46833e-3\n",
       " 100 │      99  4.86178e-36  3.40857e-40  2.18581e-52  2.32253e-37  6.14961e-3 ⋯\n",
       "\u001b[36m                                                  12 columns and 79 rows omitted\u001b[0m"
      ]
     },
     "execution_count": 2,
     "metadata": {},
     "output_type": "execute_result"
    }
   ],
   "source": [
    "using(ElasticFDA)\n",
    "using CSV\n",
    "using DataFrames\n",
    "\n",
    "df = CSV.read(\"data_temp.csv\", DataFrame)"
   ]
  },
  {
   "cell_type": "code",
   "execution_count": 3,
   "id": "ac2cd529",
   "metadata": {},
   "outputs": [
    {
     "data": {
      "text/plain": [
       "17-element Vector{String}:\n",
       " \"Column1\"\n",
       " \"0\"\n",
       " \"1\"\n",
       " \"2\"\n",
       " \"3\"\n",
       " \"4\"\n",
       " \"5\"\n",
       " \"6\"\n",
       " \"7\"\n",
       " \"8\"\n",
       " \"9\"\n",
       " \"10\"\n",
       " \"11\"\n",
       " \"12\"\n",
       " \"13\"\n",
       " \"14\"\n",
       " \"time\""
      ]
     },
     "execution_count": 3,
     "metadata": {},
     "output_type": "execute_result"
    }
   ],
   "source": [
    "names(df)"
   ]
  },
  {
   "cell_type": "markdown",
   "id": "eae6d089",
   "metadata": {},
   "source": [
    "First column should be read as the index... Anyways, let's consider only the columns 2:17. So: \n",
    "* the shape of ```df[!,2:17]``` is 100x16. \n",
    "* the last columns is time: ```df[!,\"time\"]``` (alternative is ```df[!,17]```). \n",
    "* the leading 15 columns are the data: ```df[!,2:16]"
   ]
  },
  {
   "cell_type": "code",
   "execution_count": 4,
   "id": "ad67d9c5",
   "metadata": {},
   "outputs": [
    {
     "data": {
      "text/plain": [
       "(100, 16)"
      ]
     },
     "execution_count": 4,
     "metadata": {},
     "output_type": "execute_result"
    }
   ],
   "source": [
    "size(df[!,2:17])"
   ]
  },
  {
   "cell_type": "code",
   "execution_count": 5,
   "id": "8a95c0c0",
   "metadata": {
    "scrolled": true
   },
   "outputs": [
    {
     "data": {
      "text/html": [
       "<div class=\"data-frame\"><p>2 rows × 4 columns</p><table class=\"data-frame\"><thead><tr><th></th><th>0</th><th>1</th><th>2</th><th>3</th></tr><tr><th></th><th title=\"Float64\">Float64</th><th title=\"Float64\">Float64</th><th title=\"Float64\">Float64</th><th title=\"Float64\">Float64</th></tr></thead><tbody><tr><th>1</th><td>1.83285e-45</td><td>9.19395e-27</td><td>2.69583e-38</td><td>1.16925e-46</td></tr><tr><th>2</th><td>2.89475e-43</td><td>4.30648e-25</td><td>2.77371e-36</td><td>1.97666e-44</td></tr></tbody></table></div>"
      ],
      "text/latex": [
       "\\begin{tabular}{r|cccc}\n",
       "\t& 0 & 1 & 2 & 3\\\\\n",
       "\t\\hline\n",
       "\t& Float64 & Float64 & Float64 & Float64\\\\\n",
       "\t\\hline\n",
       "\t1 & 1.83285e-45 & 9.19395e-27 & 2.69583e-38 & 1.16925e-46 \\\\\n",
       "\t2 & 2.89475e-43 & 4.30648e-25 & 2.77371e-36 & 1.97666e-44 \\\\\n",
       "\\end{tabular}\n"
      ],
      "text/plain": [
       "\u001b[1m2×4 DataFrame\u001b[0m\n",
       "\u001b[1m Row \u001b[0m│\u001b[1m 0           \u001b[0m\u001b[1m 1           \u001b[0m\u001b[1m 2           \u001b[0m\u001b[1m 3           \u001b[0m\n",
       "\u001b[1m     \u001b[0m│\u001b[90m Float64     \u001b[0m\u001b[90m Float64     \u001b[0m\u001b[90m Float64     \u001b[0m\u001b[90m Float64     \u001b[0m\n",
       "─────┼────────────────────────────────────────────────────\n",
       "   1 │ 1.83285e-45  9.19395e-27  2.69583e-38  1.16925e-46\n",
       "   2 │ 2.89475e-43  4.30648e-25  2.77371e-36  1.97666e-44"
      ]
     },
     "execution_count": 5,
     "metadata": {},
     "output_type": "execute_result"
    }
   ],
   "source": [
    "df[1:2,:2:5]"
   ]
  },
  {
   "cell_type": "code",
   "execution_count": 6,
   "id": "02045523",
   "metadata": {
    "scrolled": true
   },
   "outputs": [
    {
     "data": {
      "text/html": [
       "<div class=\"data-frame\"><p>2 rows × 3 columns</p><table class=\"data-frame\"><thead><tr><th></th><th>13</th><th>14</th><th>time</th></tr><tr><th></th><th title=\"Float64\">Float64</th><th title=\"Float64\">Float64</th><th title=\"Float64\">Float64</th></tr></thead><tbody><tr><th>1</th><td>6.71373e-30</td><td>9.32424e-29</td><td>-1.0</td></tr><tr><th>2</th><td>3.95341e-28</td><td>5.05899e-27</td><td>-0.949495</td></tr></tbody></table></div>"
      ],
      "text/latex": [
       "\\begin{tabular}{r|ccc}\n",
       "\t& 13 & 14 & time\\\\\n",
       "\t\\hline\n",
       "\t& Float64 & Float64 & Float64\\\\\n",
       "\t\\hline\n",
       "\t1 & 6.71373e-30 & 9.32424e-29 & -1.0 \\\\\n",
       "\t2 & 3.95341e-28 & 5.05899e-27 & -0.949495 \\\\\n",
       "\\end{tabular}\n"
      ],
      "text/plain": [
       "\u001b[1m2×3 DataFrame\u001b[0m\n",
       "\u001b[1m Row \u001b[0m│\u001b[1m 13          \u001b[0m\u001b[1m 14          \u001b[0m\u001b[1m time      \u001b[0m\n",
       "\u001b[1m     \u001b[0m│\u001b[90m Float64     \u001b[0m\u001b[90m Float64     \u001b[0m\u001b[90m Float64   \u001b[0m\n",
       "─────┼─────────────────────────────────────\n",
       "   1 │ 6.71373e-30  9.32424e-29  -1.0\n",
       "   2 │ 3.95341e-28  5.05899e-27  -0.949495"
      ]
     },
     "execution_count": 6,
     "metadata": {},
     "output_type": "execute_result"
    }
   ],
   "source": [
    "df[1:2,:15:17]"
   ]
  },
  {
   "cell_type": "code",
   "execution_count": 7,
   "id": "d86d3e3d",
   "metadata": {},
   "outputs": [
    {
     "data": {
      "text/plain": [
       "2-element Vector{Float64}:\n",
       " -1.0\n",
       " -0.9494949494949495"
      ]
     },
     "execution_count": 7,
     "metadata": {},
     "output_type": "execute_result"
    }
   ],
   "source": [
    "df[1:2,\"time\"]"
   ]
  },
  {
   "cell_type": "code",
   "execution_count": null,
   "id": "dcd2b28b",
   "metadata": {},
   "outputs": [],
   "source": []
  },
  {
   "cell_type": "markdown",
   "id": "655b0fed",
   "metadata": {},
   "source": [
    "### srsf_align\n",
    "* :param f: array of shape (M,N) of N functions with M samples\n",
    "*  :param timet: vector of size M describing the sample points\n",
    "\n",
    "\n",
    "Returns fdawarp type containing\n",
    "*   :return fn: aligned functions - array of shape (M,N) of N functions with M samples\n",
    "*   :return qn: aligned srsfs - similar structure to fn\n",
    "*   :return q0: original srsfs - similar structure to fn\n",
    "*   :return fmean: function mean or median - vector of length N\n",
    "*   :return mqn: srvf mean or median - vector of length N\n",
    "*   :return gam: warping functions - similar structure to fn\n",
    "*   :return orig_var: Original Variance of Functions\n",
    "*   :return amp_var: Amplitude Variance\n",
    "*   :return phase_var: Phase Variance"
   ]
  },
  {
   "cell_type": "code",
   "execution_count": 8,
   "id": "6897cca4",
   "metadata": {},
   "outputs": [
    {
     "name": "stdout",
     "output_type": "stream",
     "text": [
      "Initializing...\n",
      "Compute Karcher Mean of 15 functions in SRSF space..\n",
      "updating step: r=1\n",
      "updating step: r=2\n",
      "updating step: r=3\n",
      "maximal number of iterations reached\n",
      " 12.544128 seconds (18.21 M allocations: 1.048 GiB, 3.71% gc time, 48.95% compilation time)\n"
     ]
    }
   ],
   "source": [
    "@time res = srsf_align(Array(df[!, 2:16]), df[!, \"time\"], smooth=false, MaxItr=3);"
   ]
  },
  {
   "cell_type": "code",
   "execution_count": 9,
   "id": "5595464f",
   "metadata": {},
   "outputs": [
    {
     "name": "stdout",
     "output_type": "stream",
     "text": [
      "Initializing...\n",
      "Compute Karcher Mean of 15 functions in SRSF space..\n",
      "updating step: r=1\n",
      "updating step: r=2\n",
      "updating step: r=3\n",
      "maximal number of iterations reached\n",
      "  6.399286 seconds (22.41 k allocations: 14.607 MiB)\n"
     ]
    }
   ],
   "source": [
    "@time res = srsf_align(Array(df[!, 2:16]), df[!, \"time\"], smooth=false, MaxItr=3);"
   ]
  },
  {
   "cell_type": "code",
   "execution_count": 71,
   "id": "8f7ea484",
   "metadata": {},
   "outputs": [
    {
     "data": {
      "text/plain": [
       "100×4 Matrix{Float64}:\n",
       " 1.83285e-45  9.19395e-27  2.69583e-38  1.16925e-46\n",
       " 4.02443e-41  1.43347e-17  2.08702e-36  9.94177e-45\n",
       " 5.30548e-37  2.20559e-15  1.26993e-34  1.97666e-44\n",
       " 1.91977e-35  6.94485e-14  5.19533e-33  6.66702e-41\n",
       " 3.78649e-35  1.50383e-12  2.00277e-32  1.50667e-38\n",
       " 5.68948e-34  3.32102e-12  5.39581e-31  2.27703e-36\n",
       " 2.12486e-33  5.1382e-12   1.05913e-30  2.70118e-34\n",
       " 3.68078e-33  6.95539e-12  1.20829e-29  2.64748e-32\n",
       " 8.02892e-32  8.77257e-12  4.41152e-29  2.19388e-30\n",
       " 1.94424e-31  1.05898e-11  7.61475e-29  4.9869e-15\n",
       " 3.08559e-31  1.24069e-11  1.24546e-27  2.49625e-14\n",
       " 1.27182e-15  1.42241e-11  2.98341e-27  4.49381e-14\n",
       " 1.75508e-14  1.60413e-11  4.72136e-27  6.49136e-14\n",
       " ⋮                                      \n",
       " 6.49661e-14  5.78243e-14  1.0353e-15   8.60024e-15\n",
       " 5.23117e-15  4.63181e-15  3.84553e-17  3.36577e-15\n",
       " 2.1934e-16   1.9316e-16   1.12979e-18  6.05958e-16\n",
       " 7.61799e-18  6.67239e-18  2.28728e-20  3.20804e-16\n",
       " 2.0914e-19   1.82179e-19  9.81818e-23  3.56505e-17\n",
       " 3.94684e-21  3.41856e-21  5.99206e-23  2.19882e-17\n",
       " 1.49549e-23  1.28228e-23  2.16595e-23  8.3258e-18\n",
       " 4.33471e-34  9.69399e-24  2.03456e-24  1.20673e-18\n",
       " 3.26319e-34  6.56516e-24  1.04595e-24  6.30942e-19\n",
       " 2.19167e-34  3.43632e-24  5.73368e-26  5.51576e-20\n",
       " 1.12014e-34  3.07488e-25  1.84969e-45  1.28972e-24\n",
       " 4.86178e-36  3.40857e-40  2.18581e-52  2.32253e-37"
      ]
     },
     "execution_count": 71,
     "metadata": {},
     "output_type": "execute_result"
    }
   ],
   "source": [
    "res.fn"
   ]
  },
  {
   "cell_type": "code",
   "execution_count": 70,
   "id": "8f5e2355",
   "metadata": {},
   "outputs": [
    {
     "data": {
      "text/plain": [
       "100-element Vector{Float64}:\n",
       " -1.0\n",
       " -0.9494949494949495\n",
       " -0.898989898989899\n",
       " -0.8484848484848485\n",
       " -0.797979797979798\n",
       " -0.7474747474747474\n",
       " -0.696969696969697\n",
       " -0.6464646464646464\n",
       " -0.595959595959596\n",
       " -0.5454545454545454\n",
       " -0.4949494949494949\n",
       " -0.4444444444444444\n",
       " -0.3939393939393939\n",
       "  ⋮\n",
       "  3.4444444444444446\n",
       "  3.494949494949495\n",
       "  3.545454545454545\n",
       "  3.595959595959596\n",
       "  3.646464646464646\n",
       "  3.6969696969696972\n",
       "  3.7474747474747474\n",
       "  3.7979797979797976\n",
       "  3.8484848484848486\n",
       "  3.898989898989899\n",
       "  3.94949494949495\n",
       "  4.0"
      ]
     },
     "execution_count": 70,
     "metadata": {},
     "output_type": "execute_result"
    }
   ],
   "source": [
    "res."
   ]
  },
  {
   "cell_type": "code",
   "execution_count": null,
   "id": "35455807",
   "metadata": {},
   "outputs": [],
   "source": []
  },
  {
   "cell_type": "code",
   "execution_count": null,
   "id": "92113b5a",
   "metadata": {},
   "outputs": [],
   "source": []
  },
  {
   "cell_type": "markdown",
   "id": "ddbb8a24",
   "metadata": {},
   "source": [
    "## documentation and github examples"
   ]
  },
  {
   "cell_type": "code",
   "execution_count": 64,
   "id": "7b72c269",
   "metadata": {},
   "outputs": [
    {
     "ename": "LoadError",
     "evalue": "UndefVarError: Normal not defined",
     "output_type": "error",
     "traceback": [
      "UndefVarError: Normal not defined",
      "",
      "Stacktrace:",
      " [1] top-level scope",
      "   @ ./In[64]:15",
      " [2] eval",
      "   @ ./boot.jl:360 [inlined]",
      " [3] include_string(mapexpr::typeof(REPL.softscope), mod::Module, code::String, filename::String)",
      "   @ Base ./loading.jl:1116"
     ]
    }
   ],
   "source": [
    "timet = LinRange(0,1,101);\n",
    "M = length(timet);\n",
    "N = 5;\n",
    "lam = 0.001;\n",
    "center = [.3; .35];\n",
    "center2 = [4; 4];\n",
    "sd1 = .1;\n",
    "gam_sd = 1;\n",
    "num_comp = 5;\n",
    "f_orig = zeros(M,N*length(center));\n",
    "omega = 2*pi;\n",
    "cnt = 1;\n",
    "for ii = 1:length(center)\n",
    "    global cnt\n",
    "    tmp = Normal(center[ii], .1);\n",
    "    tmp2 = Normal(center2[ii], sd1);\n",
    "    for jj = 1:N\n",
    "        f_orig[:, cnt] = rand(tmp2) * pdf.(tmp, timet);\n",
    "        cnt+= 1;\n",
    "    end\n",
    "end\n",
    "\n",
    "q_orig = f_to_srsf(f_orig,collect(timet));\n",
    "y_orig = ones(size(q_orig,2));\n",
    "y_orig[N+1:end] .= -1;\n",
    "\n",
    "f = zeros(M, size(f_orig,2));\n",
    "q = zeros(M, size(f_orig,2));\n",
    "gam_orig = rgam(M, gam_sd, 2*N);\n",
    "cnt = 1;\n",
    "for ii = 1:length(center)\n",
    "    global cnt\n",
    "    for jj = 1:N\n",
    "        f[:,cnt] = warp_f_gamma(collect(timet), f_orig[:,cnt], gam_orig[:,jj]);\n",
    "        q[:,cnt] = f_to_srsf(f[:,cnt], collect(timet));\n",
    "        cnt += 1;\n",
    "    end\n",
    "end"
   ]
  },
  {
   "cell_type": "code",
   "execution_count": 63,
   "id": "7acdb5cd",
   "metadata": {},
   "outputs": [
    {
     "ename": "LoadError",
     "evalue": "ArgumentError: Package JLD2 not found in current path:\n- Run `import Pkg; Pkg.add(\"JLD2\")` to install the JLD2 package.\n",
     "output_type": "error",
     "traceback": [
      "ArgumentError: Package JLD2 not found in current path:\n- Run `import Pkg; Pkg.add(\"JLD2\")` to install the JLD2 package.\n",
      "",
      "Stacktrace:",
      " [1] require(into::Module, mod::Symbol)",
      "   @ Base ./loading.jl:893",
      " [2] eval",
      "   @ ./boot.jl:360 [inlined]",
      " [3] include_string(mapexpr::typeof(REPL.softscope), mod::Module, code::String, filename::String)",
      "   @ Base ./loading.jl:1116"
     ]
    }
   ],
   "source": [
    "# https://github.com/jdtuck/ElasticFDA.jl/blob/master/scripts/test.jl\n",
    "\n",
    "using JLD2, Distributions, ProgressMeter, Interpolations, Plots\n",
    "@load \"test/simu_data.jld2\"\n",
    "include(\"src/types.jl\")\n",
    "include(\"src/misc_funcs.jl\")\n",
    "include(\"src/srsf_funcs.jl\")\n",
    "include(\"src/geometry.jl\")\n",
    "include(\"src/pair_warping_expomap.jl\")\n",
    "f1 = f[:,1]\n",
    "f2 = f[:,9]\n",
    "iter=20000\n",
    "burnin=min(5000,iter/2)\n",
    "alpha0=0.1\n",
    "beta0=0.1\n",
    "pbetas=[0.5,0.05,0.005,0.0001]\n",
    "probs=[0.1,0.1,0.7,0.1]\n",
    "propvar=1.0\n",
    "init_coef=zeros(20)\n",
    "npoints=200\n",
    "extrainfo=false\n",
    "\n",
    "using JLD2, ElasticFDA, Plots\n",
    "@load \"test/simu_data.jld2\"\n",
    "f1 = f[:,1]\n",
    "f2 = f[:,21]\n",
    "out = pair_warping_expomap(f1,f2,timet,propvar=1,extrainfo=true)"
   ]
  },
  {
   "cell_type": "markdown",
   "id": "aad476a5",
   "metadata": {},
   "source": [
    "## Old"
   ]
  },
  {
   "cell_type": "code",
   "execution_count": null,
   "id": "5ed80856",
   "metadata": {},
   "outputs": [],
   "source": []
  },
  {
   "cell_type": "code",
   "execution_count": 50,
   "id": "007f19e3",
   "metadata": {},
   "outputs": [
    {
     "ename": "LoadError",
     "evalue": "MethodError: no method matching ElasticFDA.fdawarp(::Matrix{Float64}, ::Vector{Float64})\n\u001b[0mClosest candidates are:\n\u001b[0m  ElasticFDA.fdawarp(::Array{Float64, N} where N, ::Vector{Float64}, \u001b[91m::Array{Float64, N} where N\u001b[39m, \u001b[91m::Array{Float64, N} where N\u001b[39m, \u001b[91m::Array{Float64, N} where N\u001b[39m, \u001b[91m::Vector{Float64}\u001b[39m, \u001b[91m::Vector{Float64}\u001b[39m, \u001b[91m::Array{Float64, N} where N\u001b[39m, \u001b[91m::Float64\u001b[39m, \u001b[91m::Float64\u001b[39m, \u001b[91m::Float64\u001b[39m, \u001b[91m::Vector{Float64}\u001b[39m, \u001b[91m::Float64\u001b[39m, \u001b[91m::String\u001b[39m, \u001b[91m::String\u001b[39m, \u001b[91m::Vector{Float64}\u001b[39m, \u001b[91m::Bool\u001b[39m, \u001b[91m::Array{Float64, N} where N\u001b[39m, \u001b[91m::Array{Float64, N} where N\u001b[39m, \u001b[91m::Array{Float64, N} where N\u001b[39m, \u001b[91m::Array{Float64, N} where N\u001b[39m) at /home/leo/.julia/packages/ElasticFDA/d5Ypy/src/types.jl:2\n\u001b[0m  ElasticFDA.fdawarp(::Any, ::Any, \u001b[91m::Any\u001b[39m, \u001b[91m::Any\u001b[39m, \u001b[91m::Any\u001b[39m, \u001b[91m::Any\u001b[39m, \u001b[91m::Any\u001b[39m, \u001b[91m::Any\u001b[39m, \u001b[91m::Any\u001b[39m, \u001b[91m::Any\u001b[39m, \u001b[91m::Any\u001b[39m, \u001b[91m::Any\u001b[39m, \u001b[91m::Any\u001b[39m, \u001b[91m::Any\u001b[39m, \u001b[91m::Any\u001b[39m, \u001b[91m::Any\u001b[39m, \u001b[91m::Any\u001b[39m, \u001b[91m::Any\u001b[39m, \u001b[91m::Any\u001b[39m, \u001b[91m::Any\u001b[39m, \u001b[91m::Any\u001b[39m) at /home/leo/.julia/packages/ElasticFDA/d5Ypy/src/types.jl:2",
     "output_type": "error",
     "traceback": [
      "MethodError: no method matching ElasticFDA.fdawarp(::Matrix{Float64}, ::Vector{Float64})\n\u001b[0mClosest candidates are:\n\u001b[0m  ElasticFDA.fdawarp(::Array{Float64, N} where N, ::Vector{Float64}, \u001b[91m::Array{Float64, N} where N\u001b[39m, \u001b[91m::Array{Float64, N} where N\u001b[39m, \u001b[91m::Array{Float64, N} where N\u001b[39m, \u001b[91m::Vector{Float64}\u001b[39m, \u001b[91m::Vector{Float64}\u001b[39m, \u001b[91m::Array{Float64, N} where N\u001b[39m, \u001b[91m::Float64\u001b[39m, \u001b[91m::Float64\u001b[39m, \u001b[91m::Float64\u001b[39m, \u001b[91m::Vector{Float64}\u001b[39m, \u001b[91m::Float64\u001b[39m, \u001b[91m::String\u001b[39m, \u001b[91m::String\u001b[39m, \u001b[91m::Vector{Float64}\u001b[39m, \u001b[91m::Bool\u001b[39m, \u001b[91m::Array{Float64, N} where N\u001b[39m, \u001b[91m::Array{Float64, N} where N\u001b[39m, \u001b[91m::Array{Float64, N} where N\u001b[39m, \u001b[91m::Array{Float64, N} where N\u001b[39m) at /home/leo/.julia/packages/ElasticFDA/d5Ypy/src/types.jl:2\n\u001b[0m  ElasticFDA.fdawarp(::Any, ::Any, \u001b[91m::Any\u001b[39m, \u001b[91m::Any\u001b[39m, \u001b[91m::Any\u001b[39m, \u001b[91m::Any\u001b[39m, \u001b[91m::Any\u001b[39m, \u001b[91m::Any\u001b[39m, \u001b[91m::Any\u001b[39m, \u001b[91m::Any\u001b[39m, \u001b[91m::Any\u001b[39m, \u001b[91m::Any\u001b[39m, \u001b[91m::Any\u001b[39m, \u001b[91m::Any\u001b[39m, \u001b[91m::Any\u001b[39m, \u001b[91m::Any\u001b[39m, \u001b[91m::Any\u001b[39m, \u001b[91m::Any\u001b[39m, \u001b[91m::Any\u001b[39m, \u001b[91m::Any\u001b[39m, \u001b[91m::Any\u001b[39m) at /home/leo/.julia/packages/ElasticFDA/d5Ypy/src/types.jl:2",
      "",
      "Stacktrace:",
      " [1] top-level scope",
      "   @ In[50]:3",
      " [2] eval",
      "   @ ./boot.jl:360 [inlined]",
      " [3] include_string(mapexpr::typeof(REPL.softscope), mod::Module, code::String, filename::String)",
      "   @ Base ./loading.jl:1116"
     ]
    }
   ],
   "source": [
    "# this class provides alignment methods for functional data using the SRVF framework\n",
    "\n",
    "obj = ElasticFDA.fdawarp(Array(df[!, 2:5]), df[!, \"time\"])"
   ]
  },
  {
   "cell_type": "code",
   "execution_count": 53,
   "id": "a69b5ac8",
   "metadata": {},
   "outputs": [
    {
     "ename": "LoadError",
     "evalue": "MethodError: no method matching ElasticFDA.fdawarp(::LinearAlgebra.Transpose{Float64, Matrix{Float64}}, ::Vector{Float64})\n\u001b[0mClosest candidates are:\n\u001b[0m  ElasticFDA.fdawarp(::Any, ::Any, \u001b[91m::Any\u001b[39m, \u001b[91m::Any\u001b[39m, \u001b[91m::Any\u001b[39m, \u001b[91m::Any\u001b[39m, \u001b[91m::Any\u001b[39m, \u001b[91m::Any\u001b[39m, \u001b[91m::Any\u001b[39m, \u001b[91m::Any\u001b[39m, \u001b[91m::Any\u001b[39m, \u001b[91m::Any\u001b[39m, \u001b[91m::Any\u001b[39m, \u001b[91m::Any\u001b[39m, \u001b[91m::Any\u001b[39m, \u001b[91m::Any\u001b[39m, \u001b[91m::Any\u001b[39m, \u001b[91m::Any\u001b[39m, \u001b[91m::Any\u001b[39m, \u001b[91m::Any\u001b[39m, \u001b[91m::Any\u001b[39m) at /home/leo/.julia/packages/ElasticFDA/d5Ypy/src/types.jl:2\n\u001b[0m  ElasticFDA.fdawarp(\u001b[91m::Array{Float64, N} where N\u001b[39m, ::Vector{Float64}, \u001b[91m::Array{Float64, N} where N\u001b[39m, \u001b[91m::Array{Float64, N} where N\u001b[39m, \u001b[91m::Array{Float64, N} where N\u001b[39m, \u001b[91m::Vector{Float64}\u001b[39m, \u001b[91m::Vector{Float64}\u001b[39m, \u001b[91m::Array{Float64, N} where N\u001b[39m, \u001b[91m::Float64\u001b[39m, \u001b[91m::Float64\u001b[39m, \u001b[91m::Float64\u001b[39m, \u001b[91m::Vector{Float64}\u001b[39m, \u001b[91m::Float64\u001b[39m, \u001b[91m::String\u001b[39m, \u001b[91m::String\u001b[39m, \u001b[91m::Vector{Float64}\u001b[39m, \u001b[91m::Bool\u001b[39m, \u001b[91m::Array{Float64, N} where N\u001b[39m, \u001b[91m::Array{Float64, N} where N\u001b[39m, \u001b[91m::Array{Float64, N} where N\u001b[39m, \u001b[91m::Array{Float64, N} where N\u001b[39m) at /home/leo/.julia/packages/ElasticFDA/d5Ypy/src/types.jl:2",
     "output_type": "error",
     "traceback": [
      "MethodError: no method matching ElasticFDA.fdawarp(::LinearAlgebra.Transpose{Float64, Matrix{Float64}}, ::Vector{Float64})\n\u001b[0mClosest candidates are:\n\u001b[0m  ElasticFDA.fdawarp(::Any, ::Any, \u001b[91m::Any\u001b[39m, \u001b[91m::Any\u001b[39m, \u001b[91m::Any\u001b[39m, \u001b[91m::Any\u001b[39m, \u001b[91m::Any\u001b[39m, \u001b[91m::Any\u001b[39m, \u001b[91m::Any\u001b[39m, \u001b[91m::Any\u001b[39m, \u001b[91m::Any\u001b[39m, \u001b[91m::Any\u001b[39m, \u001b[91m::Any\u001b[39m, \u001b[91m::Any\u001b[39m, \u001b[91m::Any\u001b[39m, \u001b[91m::Any\u001b[39m, \u001b[91m::Any\u001b[39m, \u001b[91m::Any\u001b[39m, \u001b[91m::Any\u001b[39m, \u001b[91m::Any\u001b[39m, \u001b[91m::Any\u001b[39m) at /home/leo/.julia/packages/ElasticFDA/d5Ypy/src/types.jl:2\n\u001b[0m  ElasticFDA.fdawarp(\u001b[91m::Array{Float64, N} where N\u001b[39m, ::Vector{Float64}, \u001b[91m::Array{Float64, N} where N\u001b[39m, \u001b[91m::Array{Float64, N} where N\u001b[39m, \u001b[91m::Array{Float64, N} where N\u001b[39m, \u001b[91m::Vector{Float64}\u001b[39m, \u001b[91m::Vector{Float64}\u001b[39m, \u001b[91m::Array{Float64, N} where N\u001b[39m, \u001b[91m::Float64\u001b[39m, \u001b[91m::Float64\u001b[39m, \u001b[91m::Float64\u001b[39m, \u001b[91m::Vector{Float64}\u001b[39m, \u001b[91m::Float64\u001b[39m, \u001b[91m::String\u001b[39m, \u001b[91m::String\u001b[39m, \u001b[91m::Vector{Float64}\u001b[39m, \u001b[91m::Bool\u001b[39m, \u001b[91m::Array{Float64, N} where N\u001b[39m, \u001b[91m::Array{Float64, N} where N\u001b[39m, \u001b[91m::Array{Float64, N} where N\u001b[39m, \u001b[91m::Array{Float64, N} where N\u001b[39m) at /home/leo/.julia/packages/ElasticFDA/d5Ypy/src/types.jl:2",
      "",
      "Stacktrace:",
      " [1] top-level scope",
      "   @ In[53]:3",
      " [2] eval",
      "   @ ./boot.jl:360 [inlined]",
      " [3] include_string(mapexpr::typeof(REPL.softscope), mod::Module, code::String, filename::String)",
      "   @ Base ./loading.jl:1116"
     ]
    }
   ],
   "source": [
    "# this class provides alignment methods for functional data using the SRVF framework\n",
    "\n",
    "obj = ElasticFDA.fdawarp(transpose(Array(df[!, 2:5])), df[!, \"time\"])"
   ]
  },
  {
   "cell_type": "code",
   "execution_count": 43,
   "id": "f4a2fbba",
   "metadata": {},
   "outputs": [
    {
     "ename": "LoadError",
     "evalue": "MethodError: no method matching ElasticFDA.fdawarp(::Matrix{Float64}, ::Vector{Float64})\n\u001b[0mClosest candidates are:\n\u001b[0m  ElasticFDA.fdawarp(::Array{Float64, N} where N, ::Vector{Float64}, \u001b[91m::Array{Float64, N} where N\u001b[39m, \u001b[91m::Array{Float64, N} where N\u001b[39m, \u001b[91m::Array{Float64, N} where N\u001b[39m, \u001b[91m::Vector{Float64}\u001b[39m, \u001b[91m::Vector{Float64}\u001b[39m, \u001b[91m::Array{Float64, N} where N\u001b[39m, \u001b[91m::Float64\u001b[39m, \u001b[91m::Float64\u001b[39m, \u001b[91m::Float64\u001b[39m, \u001b[91m::Vector{Float64}\u001b[39m, \u001b[91m::Float64\u001b[39m, \u001b[91m::String\u001b[39m, \u001b[91m::String\u001b[39m, \u001b[91m::Vector{Float64}\u001b[39m, \u001b[91m::Bool\u001b[39m, \u001b[91m::Array{Float64, N} where N\u001b[39m, \u001b[91m::Array{Float64, N} where N\u001b[39m, \u001b[91m::Array{Float64, N} where N\u001b[39m, \u001b[91m::Array{Float64, N} where N\u001b[39m) at /home/leo/.julia/packages/ElasticFDA/d5Ypy/src/types.jl:2\n\u001b[0m  ElasticFDA.fdawarp(::Any, ::Any, \u001b[91m::Any\u001b[39m, \u001b[91m::Any\u001b[39m, \u001b[91m::Any\u001b[39m, \u001b[91m::Any\u001b[39m, \u001b[91m::Any\u001b[39m, \u001b[91m::Any\u001b[39m, \u001b[91m::Any\u001b[39m, \u001b[91m::Any\u001b[39m, \u001b[91m::Any\u001b[39m, \u001b[91m::Any\u001b[39m, \u001b[91m::Any\u001b[39m, \u001b[91m::Any\u001b[39m, \u001b[91m::Any\u001b[39m, \u001b[91m::Any\u001b[39m, \u001b[91m::Any\u001b[39m, \u001b[91m::Any\u001b[39m, \u001b[91m::Any\u001b[39m, \u001b[91m::Any\u001b[39m, \u001b[91m::Any\u001b[39m) at /home/leo/.julia/packages/ElasticFDA/d5Ypy/src/types.jl:2",
     "output_type": "error",
     "traceback": [
      "MethodError: no method matching ElasticFDA.fdawarp(::Matrix{Float64}, ::Vector{Float64})\n\u001b[0mClosest candidates are:\n\u001b[0m  ElasticFDA.fdawarp(::Array{Float64, N} where N, ::Vector{Float64}, \u001b[91m::Array{Float64, N} where N\u001b[39m, \u001b[91m::Array{Float64, N} where N\u001b[39m, \u001b[91m::Array{Float64, N} where N\u001b[39m, \u001b[91m::Vector{Float64}\u001b[39m, \u001b[91m::Vector{Float64}\u001b[39m, \u001b[91m::Array{Float64, N} where N\u001b[39m, \u001b[91m::Float64\u001b[39m, \u001b[91m::Float64\u001b[39m, \u001b[91m::Float64\u001b[39m, \u001b[91m::Vector{Float64}\u001b[39m, \u001b[91m::Float64\u001b[39m, \u001b[91m::String\u001b[39m, \u001b[91m::String\u001b[39m, \u001b[91m::Vector{Float64}\u001b[39m, \u001b[91m::Bool\u001b[39m, \u001b[91m::Array{Float64, N} where N\u001b[39m, \u001b[91m::Array{Float64, N} where N\u001b[39m, \u001b[91m::Array{Float64, N} where N\u001b[39m, \u001b[91m::Array{Float64, N} where N\u001b[39m) at /home/leo/.julia/packages/ElasticFDA/d5Ypy/src/types.jl:2\n\u001b[0m  ElasticFDA.fdawarp(::Any, ::Any, \u001b[91m::Any\u001b[39m, \u001b[91m::Any\u001b[39m, \u001b[91m::Any\u001b[39m, \u001b[91m::Any\u001b[39m, \u001b[91m::Any\u001b[39m, \u001b[91m::Any\u001b[39m, \u001b[91m::Any\u001b[39m, \u001b[91m::Any\u001b[39m, \u001b[91m::Any\u001b[39m, \u001b[91m::Any\u001b[39m, \u001b[91m::Any\u001b[39m, \u001b[91m::Any\u001b[39m, \u001b[91m::Any\u001b[39m, \u001b[91m::Any\u001b[39m, \u001b[91m::Any\u001b[39m, \u001b[91m::Any\u001b[39m, \u001b[91m::Any\u001b[39m, \u001b[91m::Any\u001b[39m, \u001b[91m::Any\u001b[39m) at /home/leo/.julia/packages/ElasticFDA/d5Ypy/src/types.jl:2",
      "",
      "Stacktrace:",
      " [1] top-level scope",
      "   @ In[43]:3",
      " [2] eval",
      "   @ ./boot.jl:360 [inlined]",
      " [3] include_string(mapexpr::typeof(REPL.softscope), mod::Module, code::String, filename::String)",
      "   @ Base ./loading.jl:1116"
     ]
    }
   ],
   "source": [
    "# this class provides alignment methods for functional data using the SRVF framework\n",
    "\n",
    "obj = ElasticFDA.fdawarp(Array(df[!, 2:5]), df[!, \"time\"])"
   ]
  }
 ],
 "metadata": {
  "kernelspec": {
   "display_name": "Julia 1.6.2",
   "language": "julia",
   "name": "julia-1.6"
  },
  "language_info": {
   "file_extension": ".jl",
   "mimetype": "application/julia",
   "name": "julia",
   "version": "1.6.2"
  },
  "toc": {
   "base_numbering": 1,
   "nav_menu": {},
   "number_sections": true,
   "sideBar": true,
   "skip_h1_title": true,
   "title_cell": "Table of Contents",
   "title_sidebar": "Contents",
   "toc_cell": false,
   "toc_position": {},
   "toc_section_display": true,
   "toc_window_display": true
  }
 },
 "nbformat": 4,
 "nbformat_minor": 5
}
